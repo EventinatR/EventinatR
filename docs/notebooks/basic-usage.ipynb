{
 "cells": [
  {
   "cell_type": "markdown",
   "metadata": {},
   "source": [
    "# EventinatR usage\n",
    "\n",
    "The following shows a simplified usage of the EventinatR objects."
   ]
  },
  {
   "cell_type": "code",
   "execution_count": null,
   "metadata": {
    "dotnet_interactive": {
     "language": "pwsh"
    }
   },
   "outputs": [],
   "source": [
    "#!pwsh\n",
    "Remove-Item -Path ~\\.nuget\\packages\\eventinatr\\ -Recurse\n",
    "dotnet pack ..\\..\\EventinatR.sln --output C:\\Windows\\Temp\\EventinatR"
   ]
  },
  {
   "cell_type": "code",
   "execution_count": null,
   "metadata": {
    "dotnet_interactive": {
     "language": "csharp"
    }
   },
   "outputs": [],
   "source": [
    "#i \"nuget:C:\\Windows\\Temp\\EventinatR\"\n",
    "#r \"nuget:EventinatR\"\n",
    "#r \"nuget:System.Memory.Data\"\n",
    "#r \"nuget:System.Linq.Async\"\n",
    "\n",
    "using System;\n",
    "using System.Collections.Generic;\n",
    "using System.Linq;\n",
    "using EventinatR;\n",
    "using EventinatR.InMemory;"
   ]
  },
  {
   "cell_type": "markdown",
   "metadata": {},
   "source": [
    "# Domain model\n",
    "\n",
    "We are modeling a simple group with members, with the ability to add and remove members and the events that change the state of the group."
   ]
  },
  {
   "cell_type": "code",
   "execution_count": null,
   "metadata": {
    "dotnet_interactive": {
     "language": "csharp"
    }
   },
   "outputs": [],
   "source": [
    "public record GroupMember(string Name);\n",
    "public record GroupId(string Name);\n",
    "\n",
    "public abstract record Event;\n",
    "\n",
    "public abstract record GroupEvent : Event\n",
    "{\n",
    "    public record Created(GroupId Id) : GroupEvent;\n",
    "    public record AddedMember(GroupId Id, GroupMember Member) : GroupEvent;\n",
    "    public record RemovedMember(GroupId Id, GroupMember Member) : GroupEvent;\n",
    "}\n",
    "\n",
    "public class Group\n",
    "{\n",
    "    private record GroupState(GroupId Id, IEnumerable<GroupMember> Members);\n",
    "\n",
    "    public GroupId Id { get; private set; }\n",
    "    public IEnumerable<GroupMember> Members => _members.AsEnumerable();\n",
    "\n",
    "    private readonly List<GroupMember> _members = new();\n",
    "    private readonly List<GroupEvent> _uncommittedEvents = new();\n",
    "\n",
    "    private Group()\n",
    "    {\n",
    "    }\n",
    "\n",
    "    private void AddEvent(GroupEvent e)\n",
    "    {\n",
    "        ApplyEvent(e);\n",
    "        _uncommittedEvents.Add(e);\n",
    "    }\n",
    "\n",
    "    private void ApplyEvent(GroupEvent e)\n",
    "    {\n",
    "        switch (e)\n",
    "        {\n",
    "            case GroupEvent.Created created:\n",
    "                Apply(created);\n",
    "                break;\n",
    "            case GroupEvent.AddedMember addedMember:\n",
    "                Apply(addedMember);\n",
    "                break;\n",
    "            case GroupEvent.RemovedMember removedMember:\n",
    "                Apply(removedMember);\n",
    "                break;\n",
    "            default:\n",
    "                throw new InvalidOperationException($\"Unsupported event: {e.GetType().FullName}\");\n",
    "        }\n",
    "    }\n",
    "\n",
    "    public static Group Create(string name)\n",
    "    {\n",
    "        var group = new Group();\n",
    "        group.AddEvent(new GroupEvent.Created(new GroupId(name)));\n",
    "        return group;\n",
    "    }\n",
    "\n",
    "    private void Apply(GroupEvent.Created e)\n",
    "        => Id = e.Id;\n",
    "\n",
    "    public void AddMember(string name)\n",
    "    {\n",
    "        if (!_members.Any(x => x.Name == name))\n",
    "        {\n",
    "            var member = new GroupMember(name);\n",
    "            var e = new GroupEvent.AddedMember(Id, member);\n",
    "            AddEvent(e);\n",
    "        }\n",
    "    }\n",
    "\n",
    "    private void Apply(GroupEvent.AddedMember e)\n",
    "        => _members.Add(e.Member);\n",
    "\n",
    "    public void RemoveMember(string name)\n",
    "    {\n",
    "        var member = _members.FirstOrDefault(x => x.Name == name);\n",
    "\n",
    "        if (member is not null)\n",
    "        {\n",
    "            var e = new GroupEvent.RemovedMember(Id, member);\n",
    "            AddEvent(e);\n",
    "        }\n",
    "    }\n",
    "\n",
    "    private void Apply(GroupEvent.RemovedMember e)\n",
    "        => _members.Remove(e.Member);\n",
    "\n",
    "    public static async Task<Group?> ReadAsync(EventStream stream)\n",
    "    {\n",
    "        var group = new Group();\n",
    "        var snapshot = await stream.ReadSnapshotAsync<GroupState>();\n",
    "        var state = snapshot.State;\n",
    "\n",
    "        if (state is not null)\n",
    "        {\n",
    "            group.Id = state.Id;\n",
    "            group._members.AddRange(state.Members);\n",
    "        }\n",
    "\n",
    "        var events = await snapshot.ReadAsync().ToListAsync();\n",
    "\n",
    "        if (!events.Any() && state is null)\n",
    "        {\n",
    "            return null;\n",
    "        }\n",
    "\n",
    "        foreach (var e in events)\n",
    "        {\n",
    "            if (!e.TryConvert<GroupEvent>(out var groupEvent))\n",
    "            {\n",
    "                throw new InvalidOperationException($\"The event {e.Data} is not supported.\");\n",
    "            }\n",
    "\n",
    "            group.ApplyEvent(groupEvent);\n",
    "        }\n",
    "\n",
    "        return group;\n",
    "    }\n",
    "\n",
    "    public async Task SaveAsync(EventStream stream)\n",
    "    {\n",
    "        if (_uncommittedEvents.Any())\n",
    "        {\n",
    "            var state = new GroupState(Id, _members);\n",
    "            _ = await stream.AppendAsync(_uncommittedEvents, state);\n",
    "            _uncommittedEvents.Clear();\n",
    "        }\n",
    "    }\n",
    "}\n"
   ]
  },
  {
   "cell_type": "markdown",
   "metadata": {},
   "source": [
    "# Saving events to the stream\n",
    "\n",
    "1. Initialize an in-memory event store\n",
    "2. Create the aggregate root and perform some commands to generate events\n",
    "3. Get a stream for the group from the event store\n",
    "4. Save the events to the stream"
   ]
  },
  {
   "cell_type": "code",
   "execution_count": null,
   "metadata": {
    "dotnet_interactive": {
     "language": "csharp"
    }
   },
   "outputs": [],
   "source": [
    "EventStore store = new InMemoryEventStore();\n",
    "\n",
    "var group = Group.Create(\"Final Fantasty Games\");\n",
    "\n",
    "group.AddMember(\"Final Fantasy I\");\n",
    "group.AddMember(\"Final Fantasy II\");\n",
    "group.AddMember(\"Final Fantasy III\");\n",
    "group.AddMember(\"Final Fantasy IV\");\n",
    "group.AddMember(\"Final Fantasy V\");\n",
    "group.AddMember(\"Final Fantasy VI\");\n",
    "group.AddMember(\"Final Fantasy VII\");\n",
    "group.AddMember(\"Final Fantasy VIII\");\n",
    "group.AddMember(\"Final Fantasy IX\");\n",
    "group.AddMember(\"Final Fantasy X\");\n",
    "group.AddMember(\"Final Fantasy XI\");\n",
    "group.AddMember(\"Final Fantasy XII\");\n",
    "group.AddMember(\"Final Fantasy XIII\");\n",
    "group.AddMember(\"Final Fantasy XIV\");\n",
    "group.AddMember(\"Final Fantasy XV\");\n",
    "\n",
    "var stream = await store.GetStreamAsync(group.Id.Name);\n",
    "\n",
    "await group.SaveAsync(stream);\n",
    "\n",
    "display(group);"
   ]
  },
  {
   "cell_type": "markdown",
   "metadata": {},
   "source": [
    "# Reading events from a stream\n",
    "\n",
    "The aggregate root was designed to be able to read from a stream and get back to current state, the output should be exactly what was rendered in the previous step."
   ]
  },
  {
   "cell_type": "code",
   "execution_count": null,
   "metadata": {
    "dotnet_interactive": {
     "language": "csharp"
    }
   },
   "outputs": [],
   "source": [
    "group = await Group.ReadAsync(stream);\n",
    "display(group);"
   ]
  },
  {
   "cell_type": "markdown",
   "metadata": {},
   "source": [
    "# Generate some more events\n",
    "\n",
    "Final Fantasy XIV was never really a game until A Realm Reborn was released."
   ]
  },
  {
   "cell_type": "code",
   "execution_count": null,
   "metadata": {
    "dotnet_interactive": {
     "language": "csharp"
    }
   },
   "outputs": [],
   "source": [
    "group.RemoveMember(\"Final Fantasy XIV\");\n",
    "group.AddMember(\"Final Fantasty XIV - A Realm Reborn\");\n",
    "await group.SaveAsync(stream);\n",
    "\n",
    "display(group);"
   ]
  },
  {
   "cell_type": "markdown",
   "metadata": {},
   "source": [
    "# Show the events from a stream\n",
    "\n",
    "You can see each version, the type of event, and the event data."
   ]
  },
  {
   "cell_type": "code",
   "execution_count": null,
   "metadata": {
    "dotnet_interactive": {
     "language": "csharp"
    }
   },
   "outputs": [],
   "source": [
    "var events = await stream.ReadAsync().ToListAsync();\n",
    "display(events);"
   ]
  }
 ],
 "metadata": {
  "kernelspec": {
   "display_name": ".NET (C#)",
   "language": "C#",
   "name": ".net-csharp"
  },
  "language_info": {
   "name": "C#"
  }
 },
 "nbformat": 4,
 "nbformat_minor": 2
}
