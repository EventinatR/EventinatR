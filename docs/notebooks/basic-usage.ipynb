{
 "cells": [
  {
   "cell_type": "markdown",
   "metadata": {},
   "source": [
    "# EventinatR usage\n",
    "\n",
    "The following shows a simplified usage of the EventinatR objects."
   ]
  },
  {
   "cell_type": "code",
   "execution_count": null,
   "metadata": {
    "dotnet_interactive": {
     "language": "pwsh"
    }
   },
   "outputs": [],
   "source": [
    "#!pwsh\n",
    "Remove-Item -Path ~\\.nuget\\packages\\eventinatr\\ -Recurse\n",
    "dotnet pack ..\\..\\EventinatR.sln --output C:\\Windows\\Temp\\EventinatR"
   ]
  },
  {
   "cell_type": "code",
   "execution_count": null,
   "metadata": {
    "dotnet_interactive": {
     "language": "csharp"
    }
   },
   "outputs": [],
   "source": [
    "#i \"nuget:C:\\Windows\\Temp\\EventinatR\"\n",
    "#r \"nuget:EventinatR\"\n",
    "#r \"nuget:System.Memory.Data\"\n",
    "#r \"nuget:System.Linq.Async\"\n",
    "\n",
    "using System;\n",
    "using System.Collections.Generic;\n",
    "using System.Linq;\n",
    "using EventinatR;\n",
    "using EventinatR.InMemory;"
   ]
  },
  {
   "cell_type": "markdown",
   "metadata": {},
   "source": [
    "# Domain model\n",
    "\n",
    "We are modeling a simple group with members, with the ability to add and remove members and the events that change the state of the group."
   ]
  },
  {
   "cell_type": "code",
   "execution_count": null,
   "metadata": {
    "dotnet_interactive": {
     "language": "csharp"
    }
   },
   "outputs": [],
   "source": [
    "public record GroupMember(string Name);\n",
    "public record GroupId(string Name);\n",
    "\n",
    "public abstract record Event;\n",
    "\n",
    "public abstract record GroupEvent : Event\n",
    "{\n",
    "    public record Created(GroupId Id) : GroupEvent;\n",
    "    public record AddedMember(GroupId Id, GroupMember Member) : GroupEvent;\n",
    "    public record RemovedMember(GroupId Id, GroupMember Member) : GroupEvent;\n",
    "}\n",
    "\n",
    "public record GroupState(GroupId Id, IEnumerable<GroupMember> Members);\n",
    "\n",
    "public class Group\n",
    "{\n",
    "    public GroupId Id { get; private set; }\n",
    "    public IEnumerable<GroupMember> Members => _members.AsEnumerable();\n",
    "    public ICollection<GroupEvent> UncommittedEvents { get; } = new List<GroupEvent>();\n",
    "    public GroupState State => new GroupState(Id, Members);\n",
    "\n",
    "    private readonly List<GroupMember> _members = new();\n",
    "\n",
    "    public Group(string name)\n",
    "    {\n",
    "        AddEvent(new GroupEvent.Created(new GroupId(name)));\n",
    "    }\n",
    "\n",
    "    public Group(IEnumerable<GroupEvent> events, GroupState state = null)\n",
    "    {\n",
    "        ArgumentNullException.ThrowIfNull(events);\n",
    "\n",
    "        if (!events.Any() && state is null)\n",
    "        {\n",
    "            throw new ArgumentException(\"At least one event or state must be provided.\");\n",
    "        }\n",
    "\n",
    "        if (state is not null)\n",
    "        {\n",
    "            Id = state.Id;\n",
    "            _members.AddRange(state.Members);\n",
    "        }\n",
    "\n",
    "        foreach (var e in events)\n",
    "        {\n",
    "            ApplyEvent(e);\n",
    "        }\n",
    "    }\n",
    "\n",
    "    private void AddEvent(GroupEvent e)\n",
    "    {\n",
    "        ApplyEvent(e);\n",
    "        UncommittedEvents.Add(e);\n",
    "    }\n",
    "\n",
    "    private void ApplyEvent(GroupEvent e)\n",
    "    {\n",
    "        switch (e)\n",
    "        {\n",
    "            case GroupEvent.Created created:\n",
    "                Apply(created);\n",
    "                break;\n",
    "            case GroupEvent.AddedMember addedMember:\n",
    "                Apply(addedMember);\n",
    "                break;\n",
    "            case GroupEvent.RemovedMember removedMember:\n",
    "                Apply(removedMember);\n",
    "                break;\n",
    "            default:\n",
    "                throw new InvalidOperationException($\"Unsupported event: {e.GetType().FullName}\");\n",
    "        }\n",
    "    }\n",
    "\n",
    "    private void Apply(GroupEvent.Created e)\n",
    "        => Id = e.Id;\n",
    "\n",
    "    public void AddMember(string name)\n",
    "    {\n",
    "        if (!_members.Any(x => x.Name == name))\n",
    "        {\n",
    "            var member = new GroupMember(name);\n",
    "            var e = new GroupEvent.AddedMember(Id, member);\n",
    "            AddEvent(e);\n",
    "        }\n",
    "    }\n",
    "\n",
    "    private void Apply(GroupEvent.AddedMember e)\n",
    "        => _members.Add(e.Member);\n",
    "\n",
    "    public void RemoveMember(string name)\n",
    "    {\n",
    "        var member = _members.FirstOrDefault(x => x.Name == name);\n",
    "\n",
    "        if (member is not null)\n",
    "        {\n",
    "            var e = new GroupEvent.RemovedMember(Id, member);\n",
    "            AddEvent(e);\n",
    "        }\n",
    "    }\n",
    "\n",
    "    private void Apply(GroupEvent.RemovedMember e)\n",
    "        => _members.Remove(e.Member);\n",
    "}\n",
    "\n",
    "public class GroupRepository\n",
    "{\n",
    "    private readonly EventStore _store;\n",
    "\n",
    "    public GroupRepository(EventStore store)\n",
    "        => _store = store;\n",
    "\n",
    "    public Task<EventStream> GetStreamAsync(GroupId id)\n",
    "        => _store.GetStreamAsync($\"{nameof(Group)}:{id.Name}\".ToLowerInvariant());\n",
    "\n",
    "    public Task<Group?> GetAsync(GroupId id)\n",
    "        => GetAsync(id.Name);\n",
    "\n",
    "    public async Task<Group?> GetAsync(string id)\n",
    "    {\n",
    "        var stream = await GetStreamAsync(new GroupId(id));\n",
    "        var snapshot = await stream.ReadSnapshotAsync<GroupState>();\n",
    "        var state = snapshot.State;\n",
    "        var events = await snapshot.ReadAsync().Select(e =>\n",
    "            {\n",
    "                if (!e.TryConvert<GroupEvent>(out var groupEvent))\n",
    "                {\n",
    "                    throw new InvalidOperationException($\"The event stream contains data that is not supported: {e.Data}\");\n",
    "                }\n",
    "\n",
    "                return groupEvent;\n",
    "            }).ToListAsync();\n",
    "\n",
    "        return new Group(events, state);\n",
    "    }\n",
    "\n",
    "    public async Task<EventStreamVersion> SaveAsync(Group group)\n",
    "    {\n",
    "        ArgumentNullException.ThrowIfNull(group);\n",
    "\n",
    "        if (group.UncommittedEvents.Any())\n",
    "        {\n",
    "            var stream = await GetStreamAsync(group.Id);\n",
    "            var version = await stream.AppendAsync(group.UncommittedEvents, group.State);\n",
    "            group.UncommittedEvents.Clear();\n",
    "            return version;\n",
    "        }\n",
    "\n",
    "        return EventStreamVersion.None;\n",
    "    }\n",
    "}"
   ]
  },
  {
   "cell_type": "markdown",
   "metadata": {},
   "source": [
    "# Saving events to the stream\n",
    "\n",
    "1. Initialize an in-memory event store\n",
    "2. Create the aggregate root and perform some commands to generate events\n",
    "3. Get a stream for the group from the event store\n",
    "4. Save the events to the stream"
   ]
  },
  {
   "cell_type": "code",
   "execution_count": null,
   "metadata": {
    "dotnet_interactive": {
     "language": "csharp"
    }
   },
   "outputs": [],
   "source": [
    "EventStore store = new InMemoryEventStore();\n",
    "var repository = new GroupRepository(store);\n",
    "\n",
    "var group = new Group(\"Final Fantasty Games\");\n",
    "\n",
    "group.AddMember(\"Final Fantasy I\");\n",
    "group.AddMember(\"Final Fantasy II\");\n",
    "group.AddMember(\"Final Fantasy III\");\n",
    "group.AddMember(\"Final Fantasy IV\");\n",
    "group.AddMember(\"Final Fantasy V\");\n",
    "group.AddMember(\"Final Fantasy VI\");\n",
    "group.AddMember(\"Final Fantasy VII\");\n",
    "group.AddMember(\"Final Fantasy VIII\");\n",
    "group.AddMember(\"Final Fantasy IX\");\n",
    "group.AddMember(\"Final Fantasy X\");\n",
    "group.AddMember(\"Final Fantasy XI\");\n",
    "group.AddMember(\"Final Fantasy XII\");\n",
    "group.AddMember(\"Final Fantasy XIII\");\n",
    "group.AddMember(\"Final Fantasy XIV\");\n",
    "group.AddMember(\"Final Fantasy XV\");\n",
    "\n",
    "await repository.SaveAsync(group);\n",
    "\n",
    "display(group);"
   ]
  },
  {
   "cell_type": "markdown",
   "metadata": {},
   "source": [
    "# Reading events from a stream\n",
    "\n",
    "The aggregate root was designed to be able to read from a stream and get back to current state, the output should be exactly what was rendered in the previous step."
   ]
  },
  {
   "cell_type": "code",
   "execution_count": null,
   "metadata": {
    "dotnet_interactive": {
     "language": "csharp"
    }
   },
   "outputs": [],
   "source": [
    "group = await repository.GetAsync(group.Id);\n",
    "display(group);"
   ]
  },
  {
   "cell_type": "markdown",
   "metadata": {},
   "source": [
    "# Generate some more events\n",
    "\n",
    "Final Fantasy XIV was never really a game until A Realm Reborn was released."
   ]
  },
  {
   "cell_type": "code",
   "execution_count": null,
   "metadata": {
    "dotnet_interactive": {
     "language": "csharp"
    }
   },
   "outputs": [],
   "source": [
    "group.RemoveMember(\"Final Fantasy XIV\");\n",
    "group.AddMember(\"Final Fantasty XIV - A Realm Reborn\");\n",
    "await repository.SaveAsync(group);\n",
    "\n",
    "display(group);"
   ]
  },
  {
   "cell_type": "markdown",
   "metadata": {},
   "source": [
    "# Show the events from a stream\n",
    "\n",
    "You can see each version, the type of event, and the event data."
   ]
  },
  {
   "cell_type": "code",
   "execution_count": null,
   "metadata": {
    "dotnet_interactive": {
     "language": "csharp"
    }
   },
   "outputs": [],
   "source": [
    "var stream = await repository.GetStreamAsync(group.Id);\n",
    "var events = await stream.ReadAsync().ToListAsync();\n",
    "display(events);"
   ]
  }
 ],
 "metadata": {
  "kernelspec": {
   "display_name": ".NET (C#)",
   "language": "C#",
   "name": ".net-csharp"
  },
  "language_info": {
   "name": "C#"
  }
 },
 "nbformat": 4,
 "nbformat_minor": 2
}
