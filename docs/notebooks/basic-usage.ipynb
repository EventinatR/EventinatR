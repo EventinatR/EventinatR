{
 "cells": [
  {
   "cell_type": "markdown",
   "metadata": {},
   "source": [
    "# EventinatR usage\n",
    "\n",
    "The following shows a simplified usage of the EventinatR objects."
   ]
  },
  {
   "cell_type": "code",
   "execution_count": null,
   "metadata": {
    "dotnet_interactive": {
     "language": "csharp"
    }
   },
   "outputs": [
    {
     "name": "stdout",
     "output_type": "stream",
     "text": [
      "Microsoft (R) Build Engine version 17.0.0-preview-21460-01+8f208e609 for .NET\r\n",
      "Copyright (C) Microsoft Corporation. All rights reserved.\r\n",
      "\r\n",
      "  Determining projects to restore...\r\n",
      "  All projects are up-to-date for restore.\r\n"
     ]
    }
   ],
   "source": [
    "#!pwsh\n",
    "dotnet pack ..\\..\\EventinatR.sln --output C:\\Windows\\Temp\\EventinatR"
   ]
  },
  {
   "cell_type": "code",
   "execution_count": null,
   "metadata": {
    "dotnet_interactive": {
     "language": "csharp"
    }
   },
   "outputs": [
    {
     "data": {
      "text/html": [
       "<div><div><strong>Restore sources</strong><ul><li><span>C:\\Windows\\Temp\\EventinatR</span></li></ul></div><div></div><div><strong>Installed Packages</strong><ul><li><span>EventinatR, 1.0.0</span></li><li><span>System.Linq.Async, 5.0.0</span></li><li><span>System.Memory.Data, 1.0.2</span></li></ul></div></div>"
      ]
     },
     "metadata": {},
     "output_type": "display_data"
    }
   ],
   "source": [
    "#i \"nuget:C:\\Windows\\Temp\\EventinatR\"\n",
    "#r \"nuget:EventinatR\"\n",
    "#r \"nuget:System.Memory.Data\"\n",
    "#r \"nuget:System.Linq.Async\"\n",
    "\n",
    "using System;\n",
    "using System.Collections.Generic;\n",
    "using System.Linq;\n",
    "using EventinatR;\n",
    "using EventinatR.InMemory;\n",
    "using EventinatR.Serialization;"
   ]
  },
  {
   "cell_type": "markdown",
   "metadata": {},
   "source": [
    "# Domain model\n",
    "\n",
    "We are modeling a simple group with members, with the ability to add and remove members and the events that change the state of the group."
   ]
  },
  {
   "cell_type": "code",
   "execution_count": null,
   "metadata": {
    "dotnet_interactive": {
     "language": "csharp"
    }
   },
   "outputs": [],
   "source": [
    "public record GroupMember(string Name);\n",
    "public record GroupId(string Name);\n",
    "\n",
    "public record GroupEvent\n",
    "{\n",
    "    public record Created(GroupId Id) : GroupEvent;\n",
    "    public record AddedMember(GroupId Id, GroupMember Member) : GroupEvent;\n",
    "    public record RemovedMember(GroupId Id, GroupMember Member) : GroupEvent;\n",
    "\n",
    "    public static readonly EventDeserializer Deserializer = new EventDeserializer(builder => \n",
    "    {\n",
    "        builder.UseDefault<Created>();\n",
    "        builder.UseDefault<AddedMember>();\n",
    "        builder.UseDefault<RemovedMember>();\n",
    "    });\n",
    "}"
   ]
  },
  {
   "cell_type": "markdown",
   "metadata": {},
   "source": [
    "# Aggregate root\n",
    "\n",
    "The aggregate root is the group, this is a simple example of what an aggregate root with event sourcing could look like, it is not the best example."
   ]
  },
  {
   "cell_type": "code",
   "execution_count": null,
   "metadata": {
    "dotnet_interactive": {
     "language": "csharp"
    }
   },
   "outputs": [],
   "source": [
    "public class Group\n",
    "{\n",
    "    public GroupId Id { get; private set; }\n",
    "    public IEnumerable<GroupMember> Members => _members.AsEnumerable();\n",
    "    \n",
    "    private readonly List<GroupMember> _members = new();\n",
    "    private readonly List<GroupEvent> _uncommittedEvents = new();\n",
    "\n",
    "    private Group()\n",
    "    {\n",
    "    }\n",
    "\n",
    "    private void AddEvent(GroupEvent e)\n",
    "    {\n",
    "        ApplyEvent(e);\n",
    "        _uncommittedEvents.Add(e);\n",
    "    }\n",
    "\n",
    "    private void ApplyEvent(GroupEvent e)\n",
    "    {\n",
    "        switch (e)\n",
    "        {\n",
    "            case GroupEvent.Created created:\n",
    "                Apply(created);\n",
    "                break;\n",
    "            case GroupEvent.AddedMember addedMember:\n",
    "                Apply(addedMember);\n",
    "                break;\n",
    "            case GroupEvent.RemovedMember removedMember:\n",
    "                Apply(removedMember);\n",
    "                break;\n",
    "             default:\n",
    "                 throw new InvalidOperationException($\"Unsupported event: {e.GetType().FullName}\");\n",
    "        }\n",
    "    }\n",
    "\n",
    "    public static Group Create(string name)\n",
    "    {\n",
    "        var group = new Group();\n",
    "        group.AddEvent(new GroupEvent.Created(new GroupId(name)));\n",
    "        return group;\n",
    "    }\n",
    "\n",
    "    private void Apply(GroupEvent.Created e)\n",
    "        => Id = e.Id;\n",
    "\n",
    "    public void AddMember(string name)\n",
    "    {\n",
    "        if (!_members.Any(x => x.Name == name))\n",
    "        {\n",
    "            var member = new GroupMember(name);\n",
    "            var e = new GroupEvent.AddedMember(Id, member);\n",
    "            AddEvent(e);\n",
    "        }\n",
    "    }\n",
    "\n",
    "    private void Apply(GroupEvent.AddedMember e)\n",
    "        => _members.Add(e.Member);\n",
    "\n",
    "    public void RemoveMember(string name)\n",
    "    {\n",
    "        var member = _members.FirstOrDefault(x => x.Name == name);\n",
    "\n",
    "        if (member is not null)\n",
    "        {\n",
    "            var e = new GroupEvent.RemovedMember(Id, member);\n",
    "            AddEvent(e);\n",
    "        }\n",
    "    }\n",
    "\n",
    "    private void Apply(GroupEvent.RemovedMember e)\n",
    "        => _members.Remove(e.Member);\n",
    "\n",
    "    public static async Task<Group?> ReadAsync(EventStream stream)\n",
    "    {\n",
    "        var events = await stream.ReadAsync().ToListAsync();\n",
    "\n",
    "        if (!events.Any())\n",
    "        {\n",
    "            return null;\n",
    "        }\n",
    "\n",
    "        var group = new Group();\n",
    "\n",
    "        foreach(var e in events)\n",
    "        {\n",
    "            if (!GroupEvent.Deserializer.TryDeserialize<GroupEvent>(e, out var groupEvent))\n",
    "            {\n",
    "                throw new InvalidOperationException($\"The event {e.Type} is not supported.\");\n",
    "            }\n",
    "\n",
    "            group.ApplyEvent(groupEvent);\n",
    "        }\n",
    "\n",
    "        return group;\n",
    "    }\n",
    "\n",
    "    public async Task SaveAsync(EventStream stream)\n",
    "    {\n",
    "        if (_uncommittedEvents.Count > 0)\n",
    "        {\n",
    "            await stream.AppendAsync(_uncommittedEvents);\n",
    "            _uncommittedEvents.Clear();\n",
    "        }\n",
    "    }\n",
    "}"
   ]
  },
  {
   "cell_type": "markdown",
   "metadata": {},
   "source": [
    "# Saving events to the stream\n",
    "\n",
    "1. Initialize an in-memory event store\n",
    "2. Create the aggregate root and perform some commands to generate events\n",
    "3. Get a stream for the group from the event store\n",
    "4. Save the events to the stream"
   ]
  },
  {
   "cell_type": "code",
   "execution_count": null,
   "metadata": {
    "dotnet_interactive": {
     "language": "csharp"
    }
   },
   "outputs": [
    {
     "data": {
      "text/html": [
       "<table><thead><tr><th>Id</th><th>Members</th></tr></thead><tbody><tr><td><div class=\"dni-plaintext\">{ GroupId { Name = Final Fantasty Games }: Name: Final Fantasty Games }</div></td><td><div class=\"dni-plaintext\">[ { GroupMember { Name = Final Fantasy I }: Name: Final Fantasy I }, { GroupMember { Name = Final Fantasy II }: Name: Final Fantasy II }, { GroupMember { Name = Final Fantasy III }: Name: Final Fantasy III }, { GroupMember { Name = Final Fantasy IV }: Name: Final Fantasy IV }, { GroupMember { Name = Final Fantasy V }: Name: Final Fantasy V }, { GroupMember { Name = Final Fantasy VI }: Name: Final Fantasy VI }, { GroupMember { Name = Final Fantasy VII }: Name: Final Fantasy VII }, { GroupMember { Name = Final Fantasy VIII }: Name: Final Fantasy VIII }, { GroupMember { Name = Final Fantasy IX }: Name: Final Fantasy IX }, { GroupMember { Name = Final Fantasy X }: Name: Final Fantasy X }, { GroupMember { Name = Final Fantasy XI }: Name: Final Fantasy XI }, { GroupMember { Name = Final Fantasy XII }: Name: Final Fantasy XII }, { GroupMember { Name = Final Fantasy XIII }: Name: Final Fantasy XIII }, { GroupMember { Name = Final Fantasy XIV }: Name: Final Fantasy XIV }, { GroupMember { Name = Final Fantasy XV }: Name: Final Fantasy XV } ]</div></td></tr></tbody></table>"
      ]
     },
     "metadata": {},
     "output_type": "display_data"
    }
   ],
   "source": [
    "EventStore store = new InMemoryEventStore();\n",
    "\n",
    "var group = Group.Create(\"Final Fantasty Games\");\n",
    "\n",
    "group.AddMember(\"Final Fantasy I\");\n",
    "group.AddMember(\"Final Fantasy II\");\n",
    "group.AddMember(\"Final Fantasy III\");\n",
    "group.AddMember(\"Final Fantasy IV\");\n",
    "group.AddMember(\"Final Fantasy V\");\n",
    "group.AddMember(\"Final Fantasy VI\");\n",
    "group.AddMember(\"Final Fantasy VII\");\n",
    "group.AddMember(\"Final Fantasy VIII\");\n",
    "group.AddMember(\"Final Fantasy IX\");\n",
    "group.AddMember(\"Final Fantasy X\");\n",
    "group.AddMember(\"Final Fantasy XI\");\n",
    "group.AddMember(\"Final Fantasy XII\");\n",
    "group.AddMember(\"Final Fantasy XIII\");\n",
    "group.AddMember(\"Final Fantasy XIV\");\n",
    "group.AddMember(\"Final Fantasy XV\");\n",
    "\n",
    "var stream = await store.GetStreamAsync(group.Id.Name);\n",
    "\n",
    "await group.SaveAsync(stream);\n",
    "\n",
    "display(group);"
   ]
  },
  {
   "cell_type": "markdown",
   "metadata": {},
   "source": [
    "# Reading events from a stream\n",
    "\n",
    "The aggregate root was designed to be able to read from a stream and get back to current state, the output should be exactly what was rendered in the previous step."
   ]
  },
  {
   "cell_type": "code",
   "execution_count": null,
   "metadata": {
    "dotnet_interactive": {
     "language": "csharp"
    }
   },
   "outputs": [
    {
     "data": {
      "text/html": [
       "<table><thead><tr><th>Id</th><th>Members</th></tr></thead><tbody><tr><td><div class=\"dni-plaintext\">{ GroupId { Name = Final Fantasty Games }: Name: Final Fantasty Games }</div></td><td><div class=\"dni-plaintext\">[ { GroupMember { Name = Final Fantasy I }: Name: Final Fantasy I }, { GroupMember { Name = Final Fantasy II }: Name: Final Fantasy II }, { GroupMember { Name = Final Fantasy III }: Name: Final Fantasy III }, { GroupMember { Name = Final Fantasy IV }: Name: Final Fantasy IV }, { GroupMember { Name = Final Fantasy V }: Name: Final Fantasy V }, { GroupMember { Name = Final Fantasy VI }: Name: Final Fantasy VI }, { GroupMember { Name = Final Fantasy VII }: Name: Final Fantasy VII }, { GroupMember { Name = Final Fantasy VIII }: Name: Final Fantasy VIII }, { GroupMember { Name = Final Fantasy IX }: Name: Final Fantasy IX }, { GroupMember { Name = Final Fantasy X }: Name: Final Fantasy X }, { GroupMember { Name = Final Fantasy XI }: Name: Final Fantasy XI }, { GroupMember { Name = Final Fantasy XII }: Name: Final Fantasy XII }, { GroupMember { Name = Final Fantasy XIII }: Name: Final Fantasy XIII }, { GroupMember { Name = Final Fantasy XIV }: Name: Final Fantasy XIV }, { GroupMember { Name = Final Fantasy XV }: Name: Final Fantasy XV } ]</div></td></tr></tbody></table>"
      ]
     },
     "metadata": {},
     "output_type": "display_data"
    }
   ],
   "source": [
    "group = await Group.ReadAsync(stream);\n",
    "display(group);"
   ]
  },
  {
   "cell_type": "markdown",
   "metadata": {},
   "source": [
    "# Generate some more events\n",
    "\n",
    "Final Fantasy XIV was never really a game until A Realm Reborn was released."
   ]
  },
  {
   "cell_type": "code",
   "execution_count": null,
   "metadata": {
    "dotnet_interactive": {
     "language": "csharp"
    }
   },
   "outputs": [
    {
     "data": {
      "text/html": [
       "<table><thead><tr><th>Id</th><th>Members</th></tr></thead><tbody><tr><td><div class=\"dni-plaintext\">{ GroupId { Name = Final Fantasty Games }: Name: Final Fantasty Games }</div></td><td><div class=\"dni-plaintext\">[ { GroupMember { Name = Final Fantasy I }: Name: Final Fantasy I }, { GroupMember { Name = Final Fantasy II }: Name: Final Fantasy II }, { GroupMember { Name = Final Fantasy III }: Name: Final Fantasy III }, { GroupMember { Name = Final Fantasy IV }: Name: Final Fantasy IV }, { GroupMember { Name = Final Fantasy V }: Name: Final Fantasy V }, { GroupMember { Name = Final Fantasy VI }: Name: Final Fantasy VI }, { GroupMember { Name = Final Fantasy VII }: Name: Final Fantasy VII }, { GroupMember { Name = Final Fantasy VIII }: Name: Final Fantasy VIII }, { GroupMember { Name = Final Fantasy IX }: Name: Final Fantasy IX }, { GroupMember { Name = Final Fantasy X }: Name: Final Fantasy X }, { GroupMember { Name = Final Fantasy XI }: Name: Final Fantasy XI }, { GroupMember { Name = Final Fantasy XII }: Name: Final Fantasy XII }, { GroupMember { Name = Final Fantasy XIII }: Name: Final Fantasy XIII }, { GroupMember { Name = Final Fantasy XV }: Name: Final Fantasy XV }, { GroupMember { Name = Final Fantasty XIV - A Realm Reborn }: Name: Final Fantasty XIV - A Realm Reborn } ]</div></td></tr></tbody></table>"
      ]
     },
     "metadata": {},
     "output_type": "display_data"
    }
   ],
   "source": [
    "group.RemoveMember(\"Final Fantasy XIV\");\n",
    "group.AddMember(\"Final Fantasty XIV - A Realm Reborn\");\n",
    "await group.SaveAsync(stream);\n",
    "\n",
    "display(group);"
   ]
  },
  {
   "cell_type": "markdown",
   "metadata": {},
   "source": [
    "# Show the events from a stream\n",
    "\n",
    "You can see each version, the type of event, and the event data."
   ]
  },
  {
   "cell_type": "code",
   "execution_count": null,
   "metadata": {
    "dotnet_interactive": {
     "language": "csharp"
    }
   },
   "outputs": [
    {
     "data": {
      "text/html": [
       "<table><thead><tr><th><i>index</i></th><th>Version</th><th>Timestamp</th><th>Type</th><th>Data</th></tr></thead><tbody><tr><td>0</td><td><div class=\"dni-plaintext\">0</div></td><td><span>2021-10-11 19:21:30Z</span></td><td>Submission#7+GroupEvent+Created</td><td><div class=\"dni-plaintext\">{&quot;Id&quot;:{&quot;Name&quot;:&quot;Final Fantasty Games&quot;}}</div></td></tr><tr><td>1</td><td><div class=\"dni-plaintext\">1</div></td><td><span>2021-10-11 19:21:30Z</span></td><td>Submission#7+GroupEvent+AddedMember</td><td><div class=\"dni-plaintext\">{&quot;Id&quot;:{&quot;Name&quot;:&quot;Final Fantasty Games&quot;},&quot;Member&quot;:{&quot;Name&quot;:&quot;Final Fantasy I&quot;}}</div></td></tr><tr><td>2</td><td><div class=\"dni-plaintext\">2</div></td><td><span>2021-10-11 19:21:30Z</span></td><td>Submission#7+GroupEvent+AddedMember</td><td><div class=\"dni-plaintext\">{&quot;Id&quot;:{&quot;Name&quot;:&quot;Final Fantasty Games&quot;},&quot;Member&quot;:{&quot;Name&quot;:&quot;Final Fantasy II&quot;}}</div></td></tr><tr><td>3</td><td><div class=\"dni-plaintext\">3</div></td><td><span>2021-10-11 19:21:30Z</span></td><td>Submission#7+GroupEvent+AddedMember</td><td><div class=\"dni-plaintext\">{&quot;Id&quot;:{&quot;Name&quot;:&quot;Final Fantasty Games&quot;},&quot;Member&quot;:{&quot;Name&quot;:&quot;Final Fantasy III&quot;}}</div></td></tr><tr><td>4</td><td><div class=\"dni-plaintext\">4</div></td><td><span>2021-10-11 19:21:30Z</span></td><td>Submission#7+GroupEvent+AddedMember</td><td><div class=\"dni-plaintext\">{&quot;Id&quot;:{&quot;Name&quot;:&quot;Final Fantasty Games&quot;},&quot;Member&quot;:{&quot;Name&quot;:&quot;Final Fantasy IV&quot;}}</div></td></tr><tr><td>5</td><td><div class=\"dni-plaintext\">5</div></td><td><span>2021-10-11 19:21:30Z</span></td><td>Submission#7+GroupEvent+AddedMember</td><td><div class=\"dni-plaintext\">{&quot;Id&quot;:{&quot;Name&quot;:&quot;Final Fantasty Games&quot;},&quot;Member&quot;:{&quot;Name&quot;:&quot;Final Fantasy V&quot;}}</div></td></tr><tr><td>6</td><td><div class=\"dni-plaintext\">6</div></td><td><span>2021-10-11 19:21:30Z</span></td><td>Submission#7+GroupEvent+AddedMember</td><td><div class=\"dni-plaintext\">{&quot;Id&quot;:{&quot;Name&quot;:&quot;Final Fantasty Games&quot;},&quot;Member&quot;:{&quot;Name&quot;:&quot;Final Fantasy VI&quot;}}</div></td></tr><tr><td>7</td><td><div class=\"dni-plaintext\">7</div></td><td><span>2021-10-11 19:21:30Z</span></td><td>Submission#7+GroupEvent+AddedMember</td><td><div class=\"dni-plaintext\">{&quot;Id&quot;:{&quot;Name&quot;:&quot;Final Fantasty Games&quot;},&quot;Member&quot;:{&quot;Name&quot;:&quot;Final Fantasy VII&quot;}}</div></td></tr><tr><td>8</td><td><div class=\"dni-plaintext\">8</div></td><td><span>2021-10-11 19:21:30Z</span></td><td>Submission#7+GroupEvent+AddedMember</td><td><div class=\"dni-plaintext\">{&quot;Id&quot;:{&quot;Name&quot;:&quot;Final Fantasty Games&quot;},&quot;Member&quot;:{&quot;Name&quot;:&quot;Final Fantasy VIII&quot;}}</div></td></tr><tr><td>9</td><td><div class=\"dni-plaintext\">9</div></td><td><span>2021-10-11 19:21:30Z</span></td><td>Submission#7+GroupEvent+AddedMember</td><td><div class=\"dni-plaintext\">{&quot;Id&quot;:{&quot;Name&quot;:&quot;Final Fantasty Games&quot;},&quot;Member&quot;:{&quot;Name&quot;:&quot;Final Fantasy IX&quot;}}</div></td></tr><tr><td>10</td><td><div class=\"dni-plaintext\">10</div></td><td><span>2021-10-11 19:21:30Z</span></td><td>Submission#7+GroupEvent+AddedMember</td><td><div class=\"dni-plaintext\">{&quot;Id&quot;:{&quot;Name&quot;:&quot;Final Fantasty Games&quot;},&quot;Member&quot;:{&quot;Name&quot;:&quot;Final Fantasy X&quot;}}</div></td></tr><tr><td>11</td><td><div class=\"dni-plaintext\">11</div></td><td><span>2021-10-11 19:21:30Z</span></td><td>Submission#7+GroupEvent+AddedMember</td><td><div class=\"dni-plaintext\">{&quot;Id&quot;:{&quot;Name&quot;:&quot;Final Fantasty Games&quot;},&quot;Member&quot;:{&quot;Name&quot;:&quot;Final Fantasy XI&quot;}}</div></td></tr><tr><td>12</td><td><div class=\"dni-plaintext\">12</div></td><td><span>2021-10-11 19:21:30Z</span></td><td>Submission#7+GroupEvent+AddedMember</td><td><div class=\"dni-plaintext\">{&quot;Id&quot;:{&quot;Name&quot;:&quot;Final Fantasty Games&quot;},&quot;Member&quot;:{&quot;Name&quot;:&quot;Final Fantasy XII&quot;}}</div></td></tr><tr><td>13</td><td><div class=\"dni-plaintext\">13</div></td><td><span>2021-10-11 19:21:30Z</span></td><td>Submission#7+GroupEvent+AddedMember</td><td><div class=\"dni-plaintext\">{&quot;Id&quot;:{&quot;Name&quot;:&quot;Final Fantasty Games&quot;},&quot;Member&quot;:{&quot;Name&quot;:&quot;Final Fantasy XIII&quot;}}</div></td></tr><tr><td>14</td><td><div class=\"dni-plaintext\">14</div></td><td><span>2021-10-11 19:21:30Z</span></td><td>Submission#7+GroupEvent+AddedMember</td><td><div class=\"dni-plaintext\">{&quot;Id&quot;:{&quot;Name&quot;:&quot;Final Fantasty Games&quot;},&quot;Member&quot;:{&quot;Name&quot;:&quot;Final Fantasy XIV&quot;}}</div></td></tr><tr><td>15</td><td><div class=\"dni-plaintext\">15</div></td><td><span>2021-10-11 19:21:30Z</span></td><td>Submission#7+GroupEvent+AddedMember</td><td><div class=\"dni-plaintext\">{&quot;Id&quot;:{&quot;Name&quot;:&quot;Final Fantasty Games&quot;},&quot;Member&quot;:{&quot;Name&quot;:&quot;Final Fantasy XV&quot;}}</div></td></tr><tr><td>16</td><td><div class=\"dni-plaintext\">16</div></td><td><span>2021-10-11 19:21:30Z</span></td><td>Submission#7+GroupEvent+RemovedMember</td><td><div class=\"dni-plaintext\">{&quot;Id&quot;:{&quot;Name&quot;:&quot;Final Fantasty Games&quot;},&quot;Member&quot;:{&quot;Name&quot;:&quot;Final Fantasy XIV&quot;}}</div></td></tr><tr><td>17</td><td><div class=\"dni-plaintext\">17</div></td><td><span>2021-10-11 19:21:30Z</span></td><td>Submission#7+GroupEvent+AddedMember</td><td><div class=\"dni-plaintext\">{&quot;Id&quot;:{&quot;Name&quot;:&quot;Final Fantasty Games&quot;},&quot;Member&quot;:{&quot;Name&quot;:&quot;Final Fantasty XIV - A Realm Reborn&quot;}}</div></td></tr></tbody></table>"
      ]
     },
     "metadata": {},
     "output_type": "display_data"
    }
   ],
   "source": [
    "var events = await stream.ReadAsync().ToListAsync();\n",
    "display(events);"
   ]
  },
  {
   "cell_type": "markdown",
   "metadata": {},
   "source": [
    "# Snapshots\n",
    "\n",
    "This is a version of the `Group` aggregate root that uses snapshots to reduce the load on how many events need to be read to rehydrate the state. Notice the changes in `ReadAsync` and `SaveAsync` and the addition of the GroupState object."
   ]
  },
  {
   "cell_type": "code",
   "execution_count": null,
   "metadata": {
    "dotnet_interactive": {
     "language": "csharp"
    }
   },
   "outputs": [],
   "source": [
    "public record GroupState(GroupId Id, IEnumerable<GroupMember> Members);\n",
    "\n",
    "public class Group\n",
    "{\n",
    "    public GroupId Id { get; private set; }\n",
    "    public IEnumerable<GroupMember> Members => _members.AsEnumerable();\n",
    "    \n",
    "    private readonly List<GroupMember> _members = new();\n",
    "    private readonly List<GroupEvent> _uncommittedEvents = new();\n",
    "\n",
    "    private Group()\n",
    "    {\n",
    "    }\n",
    "\n",
    "    private void AddEvent(GroupEvent e)\n",
    "    {\n",
    "        ApplyEvent(e);\n",
    "        _uncommittedEvents.Add(e);\n",
    "    }\n",
    "\n",
    "    private void ApplyEvent(GroupEvent e)\n",
    "    {\n",
    "        switch (e)\n",
    "        {\n",
    "            case GroupEvent.Created created:\n",
    "                Apply(created);\n",
    "                break;\n",
    "            case GroupEvent.AddedMember addedMember:\n",
    "                Apply(addedMember);\n",
    "                break;\n",
    "            case GroupEvent.RemovedMember removedMember:\n",
    "                Apply(removedMember);\n",
    "                break;\n",
    "             default:\n",
    "                 throw new InvalidOperationException($\"Unsupported event: {e.GetType().FullName}\");\n",
    "        }\n",
    "    }\n",
    "\n",
    "    public static Group Create(string name)\n",
    "    {\n",
    "        var group = new Group();\n",
    "        group.AddEvent(new GroupEvent.Created(new GroupId(name)));\n",
    "        return group;\n",
    "    }\n",
    "\n",
    "    private void Apply(GroupEvent.Created e)\n",
    "        => Id = e.Id;\n",
    "\n",
    "    public void AddMember(string name)\n",
    "    {\n",
    "        if (!_members.Any(x => x.Name == name))\n",
    "        {\n",
    "            var member = new GroupMember(name);\n",
    "            var e = new GroupEvent.AddedMember(Id, member);\n",
    "            AddEvent(e);\n",
    "        }\n",
    "    }\n",
    "\n",
    "    private void Apply(GroupEvent.AddedMember e)\n",
    "        => _members.Add(e.Member);\n",
    "\n",
    "    public void RemoveMember(string name)\n",
    "    {\n",
    "        var member = _members.FirstOrDefault(x => x.Name == name);\n",
    "\n",
    "        if (member is not null)\n",
    "        {\n",
    "            var e = new GroupEvent.RemovedMember(Id, member);\n",
    "            AddEvent(e);\n",
    "        }\n",
    "    }\n",
    "\n",
    "    private void Apply(GroupEvent.RemovedMember e)\n",
    "        => _members.Remove(e.Member);\n",
    "\n",
    "    public static async Task<Group?> ReadAsync(EventStream stream)\n",
    "    {\n",
    "        var group = new Group();\n",
    "        var snapshot = await stream.ReadSnapshotAsync<GroupState>();\n",
    "        var state = snapshot.State;\n",
    "        \n",
    "        // Hydrate the state from the snapshot if available\n",
    "        if (state is not null)\n",
    "        {\n",
    "            group.Id = state.Id;\n",
    "            group._members.AddRange(state.Members);\n",
    "        }\n",
    "        \n",
    "        // Read only the events after the snapshot if the snapshot is available\n",
    "        var events = state is null\n",
    "            ? await stream.ReadAsync().ToListAsync()\n",
    "            : await snapshot.ReadAsync().ToListAsync();\n",
    "\n",
    "        if (!events.Any() && state is null)\n",
    "        {\n",
    "            return null;\n",
    "        }\n",
    "\n",
    "        foreach(var e in events)\n",
    "        {\n",
    "            if (!GroupEvent.Deserializer.TryDeserialize<GroupEvent>(e, out var groupEvent))\n",
    "            {\n",
    "                throw new InvalidOperationException($\"The event {e.Type} is not supported.\");\n",
    "            }\n",
    "\n",
    "            group.ApplyEvent(groupEvent);\n",
    "        }\n",
    "\n",
    "        return group;\n",
    "    }\n",
    "\n",
    "    public async Task SaveAsync(EventStream stream)\n",
    "    {\n",
    "        if (_uncommittedEvents.Count > 0)\n",
    "        {\n",
    "            var version = await stream.AppendAsync(_uncommittedEvents);\n",
    "            _uncommittedEvents.Clear();\n",
    "            await stream.WriteSnapshotAsync(new GroupState(Id, _members), version);\n",
    "        }\n",
    "    }\n",
    "}"
   ]
  },
  {
   "cell_type": "markdown",
   "metadata": {},
   "source": [
    "# Snapshot usage\n",
    "\n",
    "Usage of the aggregate root looks exactly the same, except now every time events are saved, a snapshot is added to get back to current state instantly during a read."
   ]
  },
  {
   "cell_type": "code",
   "execution_count": null,
   "metadata": {
    "dotnet_interactive": {
     "language": "csharp"
    }
   },
   "outputs": [
    {
     "data": {
      "text/html": [
       "<table><thead><tr><th>Id</th><th>Members</th></tr></thead><tbody><tr><td><div class=\"dni-plaintext\">{ GroupId { Name = Favorite Final Fantasy Games }: Name: Favorite Final Fantasy Games }</div></td><td><div class=\"dni-plaintext\">[ { GroupMember { Name = Final Fantasy VI }: Name: Final Fantasy VI }, { GroupMember { Name = Final Fantasy VII }: Name: Final Fantasy VII }, { GroupMember { Name = Final Fantasy X }: Name: Final Fantasy X }, { GroupMember { Name = Final Fantasy XV }: Name: Final Fantasy XV } ]</div></td></tr></tbody></table>"
      ]
     },
     "metadata": {},
     "output_type": "display_data"
    }
   ],
   "source": [
    "var favorites = Group.Create(\"Favorite Final Fantasy Games\");\n",
    "\n",
    "favorites.AddMember(\"Final Fantasy VI\");\n",
    "favorites.AddMember(\"Final Fantasy VII\");\n",
    "favorites.AddMember(\"Final Fantasy X\");\n",
    "favorites.AddMember(\"Final Fantasy XV\");\n",
    "\n",
    "stream = await store.GetStreamAsync(favorites.Id.Name);\n",
    "\n",
    "await favorites.SaveAsync(stream);\n",
    "\n",
    "favorites = await Group.ReadAsync(stream);\n",
    "\n",
    "display(favorites);"
   ]
  },
  {
   "cell_type": "markdown",
   "metadata": {},
   "source": [
    "# Show the snapshot\n",
    "\n",
    "The snapshot keeps track of the version it was generated from so that it can read events created after that version."
   ]
  },
  {
   "cell_type": "code",
   "execution_count": null,
   "metadata": {
    "dotnet_interactive": {
     "language": "csharp"
    }
   },
   "outputs": [
    {
     "data": {
      "text/html": [
       "<table><thead><tr><th>Version</th><th>State</th></tr></thead><tbody><tr><td><div class=\"dni-plaintext\">{ EventStreamVersion { Value = 5 }: Value: 5 }</div></td><td><div class=\"dni-plaintext\">{ GroupState { Id = GroupId { Name = Favorite Final Fantasy Games }, Members = System.Collections.Generic.List`1[Submission#7+GroupMember] }: Id: { GroupId { Name = Favorite Final Fantasy Games }: Name: Favorite Final Fantasy Games }, Members: [ { GroupMember { Name = Final Fantasy VI }: Name: Final Fantasy VI }, { GroupMember { Name = Final Fantasy VII }: Name: Final Fantasy VII }, { GroupMember { Name = Final Fantasy X }: Name: Final Fantasy X }, { GroupMember { Name = Final Fantasy XV }: Name: Final Fantasy XV } ] }</div></td></tr></tbody></table>"
      ]
     },
     "metadata": {},
     "output_type": "display_data"
    },
    {
     "data": {
      "text/html": [
       "<table><thead><tr><th>Id</th><th>Members</th></tr></thead><tbody><tr><td><div class=\"dni-plaintext\">{ GroupId { Name = Favorite Final Fantasy Games }: Name: Favorite Final Fantasy Games }</div></td><td><div class=\"dni-plaintext\">[ { GroupMember { Name = Final Fantasy VI }: Name: Final Fantasy VI }, { GroupMember { Name = Final Fantasy VII }: Name: Final Fantasy VII }, { GroupMember { Name = Final Fantasy X }: Name: Final Fantasy X }, { GroupMember { Name = Final Fantasy XV }: Name: Final Fantasy XV } ]</div></td></tr></tbody></table>"
      ]
     },
     "metadata": {},
     "output_type": "display_data"
    }
   ],
   "source": [
    "var snapshot = await stream.ReadSnapshotAsync<GroupState>();\n",
    "display(snapshot);\n",
    "display(snapshot.State);"
   ]
  }
 ],
 "metadata": {
  "kernelspec": {
   "display_name": ".NET (C#)",
   "language": "C#",
   "name": ".net-csharp"
  },
  "language_info": {
   "name": "C#"
  }
 },
 "nbformat": 4,
 "nbformat_minor": 2
}
